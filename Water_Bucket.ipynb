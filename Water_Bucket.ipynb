{
  "cells": [
    {
      "cell_type": "markdown",
      "metadata": {
        "id": "view-in-github",
        "colab_type": "text"
      },
      "source": [
        "<a href=\"https://colab.research.google.com/github/Prajwal011/Games-using-python/blob/main/Water_Bucket.ipynb\" target=\"_parent\"><img src=\"https://colab.research.google.com/assets/colab-badge.svg\" alt=\"Open In Colab\"/></a>"
      ]
    },
    {
      "cell_type": "markdown",
      "id": "74705f5f-e4ae-409e-9684-c1ac6991e0f8",
      "metadata": {
        "id": "74705f5f-e4ae-409e-9684-c1ac6991e0f8"
      },
      "source": [
        "\n",
        "# Water Bucket Puzzle Game  \n",
        "\n",
        "#### In this project, you will create a water bucket puzzle game using Python\n"
      ]
    },
    {
      "cell_type": "markdown",
      "source": [
        "\n",
        "\n",
        "[Play Game!](https://www.mathsisfun.com/games/jugs-puzzle.html)\n",
        "\n",
        "## Notebook Content :\n",
        "\n",
        "- **Lesson 1 :**\n",
        "  - Setting up the initial environment of the game.\n",
        "\n",
        "- **Lesson 2 :**\n",
        "  - Adding the required valid and invalid conditions alongwith their operations.\n",
        "\n",
        "- **Lesson 3 :**\n",
        "  - Combining all segments of the code to build the game.\n",
        "\n",
        "- **Lesson 4 :**\n",
        "  - Adding funcion to complete the game with better interface.\n"
      ],
      "metadata": {
        "id": "WWIjqHQRun2n"
      },
      "id": "WWIjqHQRun2n"
    },
    {
      "cell_type": "markdown",
      "id": "782e394b-4e9b-47ac-9f59-ca6be8a4e19b",
      "metadata": {
        "id": "782e394b-4e9b-47ac-9f59-ca6be8a4e19b"
      },
      "source": [
        "### Here's the list of rules for the game :\n",
        "#### You can fill a bucket with water.\n",
        "#### You can empty a bucket.\n",
        "#### You can pour water from one bucket to the other.\n",
        "#### The goal is to measure 4 liters of water using the two buckets."
      ]
    },
    {
      "cell_type": "markdown",
      "id": "20fcd4c7-3da5-42db-8dd8-6dc9a2289bd4",
      "metadata": {
        "id": "20fcd4c7-3da5-42db-8dd8-6dc9a2289bd4"
      },
      "source": [
        "\n",
        "\n",
        "\n",
        "\n",
        "Start by defining the two buckets and their initial capacities (3 and 5 liters). Bucket_5,Bucket_3."
      ]
    },
    {
      "cell_type": "code",
      "source": [
        "# your code"
      ],
      "metadata": {
        "id": "m-5wYK0zpqzq"
      },
      "id": "m-5wYK0zpqzq",
      "execution_count": null,
      "outputs": []
    },
    {
      "cell_type": "markdown",
      "source": [
        "Write a print function to display the litre of water in both buckets\n",
        "```\n",
        "Bucket_5 = 0  Bucket_3 = 0\n",
        "```\n",
        "\n"
      ],
      "metadata": {
        "id": "wNFWqrTHqApz"
      },
      "id": "wNFWqrTHqApz"
    },
    {
      "cell_type": "code",
      "source": [
        "# your code"
      ],
      "metadata": {
        "id": "cNPythW4prtz"
      },
      "id": "cNPythW4prtz",
      "execution_count": null,
      "outputs": []
    },
    {
      "cell_type": "markdown",
      "source": [
        "Display the choices\n",
        "```\n",
        " Press 1 to fill 5 lit bucket\n",
        " Press 2 to fill 3 lit bucket\n",
        " Press 3 for fill 3 lit bucket from 5 lit bucket\n",
        " Press 4 for fill 5 lit bucket from 3 lit bucket\n",
        " Press 5 for Empty 5 lit bucket\n",
        " Press 6 for Empty 3 lit bucket\n",
        " Press 7 to Exit\n",
        " ```\n",
        "and take input for the choice in `choice` variable\n"
      ],
      "metadata": {
        "id": "NG6NxBkVv-5i"
      },
      "id": "NG6NxBkVv-5i"
    },
    {
      "cell_type": "code",
      "source": [
        "# your code"
      ],
      "metadata": {
        "id": "IQCvab6Mqw4Y"
      },
      "id": "IQCvab6Mqw4Y",
      "execution_count": null,
      "outputs": []
    },
    {
      "cell_type": "markdown",
      "source": [
        "Check if user entered 1 as choice if yes then :\n",
        "* if bucket 5 is already full (if it has 5 litre water) then display   ` bucket full `\n",
        "* if bucket 5 is empty add 5 liter of water in it"
      ],
      "metadata": {
        "id": "r07EtabEw_T7"
      },
      "id": "r07EtabEw_T7"
    },
    {
      "cell_type": "code",
      "source": [
        "# your code"
      ],
      "metadata": {
        "id": "_7D9897lw-pq"
      },
      "id": "_7D9897lw-pq",
      "execution_count": null,
      "outputs": []
    },
    {
      "cell_type": "markdown",
      "source": [
        "Check if user entered 2 as choice if yes then :\n",
        "* if bucket 3 is already full (if it has 5 litre water) then display   ` bucket full `\n",
        "* if bucket 3 is empty add 3 liter of water in it"
      ],
      "metadata": {
        "id": "uUPSqYGUyik4"
      },
      "id": "uUPSqYGUyik4"
    },
    {
      "cell_type": "code",
      "source": [
        "# your code"
      ],
      "metadata": {
        "id": "0XQD8JEdyX9v"
      },
      "id": "0XQD8JEdyX9v",
      "execution_count": null,
      "outputs": []
    },
    {
      "cell_type": "markdown",
      "source": [
        "Check if entered choice 3 (Fill 3 liter bucket from 5 liter):\n",
        "  * if bucket 5 is empty display `invalid choice bucket 5 is empty`\n",
        "  * check if bucket 3 has more space than bucket 5 if it is add water from bucket 5 to bucket 3 and empty bucket 5\n",
        "  * otherwise add only 3 liter water in bucket 3 and subtract from bucket 5\n"
      ],
      "metadata": {
        "id": "_Aeo2UXOy_bd"
      },
      "id": "_Aeo2UXOy_bd"
    },
    {
      "cell_type": "code",
      "source": [
        "# your code"
      ],
      "metadata": {
        "id": "n7FTWr7uy8T0"
      },
      "id": "n7FTWr7uy8T0",
      "execution_count": null,
      "outputs": []
    },
    {
      "cell_type": "markdown",
      "source": [
        "Check if entered choice 4 (Fill 5 liter bucket from 3 liter):\n",
        "  * if bucket 3 is empty display `invalid choice bucket 3 is empty`\n",
        "  * check if bucket 5 has more space than bucket 3 if yes add water from bucket 3 to bucket 5 and empty bucket 3\n",
        "  * otherwise only add 5 liter water in bucket 5 and subtract  from bucket 3"
      ],
      "metadata": {
        "id": "tPGzHqkvG3iF"
      },
      "id": "tPGzHqkvG3iF"
    },
    {
      "cell_type": "code",
      "source": [
        "# your code"
      ],
      "metadata": {
        "id": "WyZkNMn1G1sI"
      },
      "id": "WyZkNMn1G1sI",
      "execution_count": null,
      "outputs": []
    },
    {
      "cell_type": "markdown",
      "source": [
        "if user entered choice 5\n",
        "* check if bucket is already empty print `bucket 5 is already empty`\n",
        "\n",
        "* otherwise empty the bucket and display ` bucket 5 is now empty`"
      ],
      "metadata": {
        "id": "Qc4gGI4eKiAB"
      },
      "id": "Qc4gGI4eKiAB"
    },
    {
      "cell_type": "code",
      "source": [
        "# your code"
      ],
      "metadata": {
        "id": "WjbwgQjLymzY"
      },
      "id": "WjbwgQjLymzY",
      "execution_count": null,
      "outputs": []
    },
    {
      "cell_type": "markdown",
      "source": [
        "if user entered choice 6\n",
        "* check if bucket is already empty print `bucket 6 is already empty`\n",
        "\n",
        "* otherwise empty the bucket and display ` bucket 6 is now empty`"
      ],
      "metadata": {
        "id": "yDGjRyqdMHSF"
      },
      "id": "yDGjRyqdMHSF"
    },
    {
      "cell_type": "code",
      "source": [
        "# your code"
      ],
      "metadata": {
        "id": "fEPJAIH9MPFH"
      },
      "id": "fEPJAIH9MPFH",
      "execution_count": null,
      "outputs": []
    },
    {
      "cell_type": "markdown",
      "source": [
        "Game is won if there is 4 liter water in bucket"
      ],
      "metadata": {
        "id": "6quJ3IUbMbXl"
      },
      "id": "6quJ3IUbMbXl"
    },
    {
      "cell_type": "code",
      "source": [
        "# your code"
      ],
      "metadata": {
        "id": "iLb1MmMdPa4h"
      },
      "id": "iLb1MmMdPa4h",
      "execution_count": null,
      "outputs": []
    },
    {
      "cell_type": "markdown",
      "source": [
        "# Structure of combined code:\n",
        "\n",
        "\n",
        "```\n",
        "variable declaration and initial print statement\n",
        "```\n",
        "Loop till we have 4 liter water in either of buckets\n",
        "\n",
        "```\n",
        "Take user input and check all the conditions in every iteration for corresponding cases\n",
        " 1. fill 5 lit bucket\n",
        " 2. fill 3 lit bucket\n",
        " 3. fill 3 lit bucket from 5 lit bucket\n",
        " 4. fill 5 lit bucket from 3 lit bucket\n",
        " 5. Empty 5 lit bucket\n",
        " 6. Empty 3 lit bucket\n",
        " 7. Exit\n",
        "and exit loop when user enters 7\n",
        "```\n",
        "\n",
        "\n",
        "```\n",
        "add winning condition game is won when we have 4 liter water in bucket\n",
        "```"
      ],
      "metadata": {
        "id": "jWc82aXBMl8S"
      },
      "id": "jWc82aXBMl8S"
    },
    {
      "cell_type": "code",
      "execution_count": null,
      "id": "15b69f81-9d82-4eca-9a15-71ae2ae91222",
      "metadata": {
        "id": "15b69f81-9d82-4eca-9a15-71ae2ae91222"
      },
      "outputs": [],
      "source": [
        "# your code"
      ]
    },
    {
      "cell_type": "markdown",
      "source": [
        "# Add the predifined function disp instead of print in your code"
      ],
      "metadata": {
        "id": "AbyUW2xpP9DF"
      },
      "id": "AbyUW2xpP9DF"
    },
    {
      "cell_type": "markdown",
      "source": [
        "#### short introduction to format():\n",
        "\n",
        ".format lets us write all string values in single set of quote without breaking it even if we need to add variables in it.\n",
        "\n",
        "ex-\n"
      ],
      "metadata": {
        "id": "LJxMSFYJpWnT"
      },
      "id": "LJxMSFYJpWnT"
    },
    {
      "cell_type": "code",
      "source": [
        "a=1\n",
        "b=2\n",
        "c = a + b\n",
        "print('Addition of {0} + {1} = {2}'.format(a,b,c))\n",
        "\n",
        "# To change sequence you can change variable in format\n",
        "\n",
        "print('Addition of {0} + {1} = {2}'.format(b,a,c)) #method 1\n",
        "\n",
        "# Or change the number of index in strings\n",
        "\n",
        "print('Addition of {1} + {0} = {2}'.format(a,b,c)) #method 2\n"
      ],
      "metadata": {
        "colab": {
          "base_uri": "https://localhost:8080/"
        },
        "id": "xeMszqLrp-l7",
        "outputId": "cae69c3d-d8ff-421a-d762-6f2b61944ea6"
      },
      "id": "xeMszqLrp-l7",
      "execution_count": null,
      "outputs": [
        {
          "output_type": "stream",
          "name": "stdout",
          "text": [
            "Addition of 1 + 2 = 3\n",
            "Addition of 2 + 1 = 3\n",
            "Addition of 2 + 1 = 3\n"
          ]
        }
      ]
    },
    {
      "cell_type": "code",
      "execution_count": null,
      "id": "4dcafc68-319b-4e9f-86e3-27522dfdb965",
      "metadata": {
        "colab": {
          "base_uri": "https://localhost:8080/"
        },
        "id": "4dcafc68-319b-4e9f-86e3-27522dfdb965",
        "outputId": "f624490c-a9d5-4f06-cf2a-32a2f885242a"
      },
      "outputs": [
        {
          "output_type": "stream",
          "name": "stdout",
          "text": [
            "\n",
            "first value:a\n",
            "Second Value:b\n",
            "Third Value:c\n"
          ]
        }
      ],
      "source": [
        "ls='abc'\n",
        "print('''\n",
        "first value:{0}\n",
        "Second Value:{1}\n",
        "Third Value:{2}'''.format(*ls))"
      ]
    },
    {
      "cell_type": "markdown",
      "source": [
        "#### Don't worry if you don't get format() and function below just replace the predifined function below in your code instead of functions"
      ],
      "metadata": {
        "id": "4ZxCBsICrO9F"
      },
      "id": "4ZxCBsICrO9F"
    },
    {
      "cell_type": "code",
      "source": [
        "Bucket_3=3\n",
        "Bucket_5=5\n",
        "def disp(Bucket_3,Bucket_5):\n",
        "  waterDisp= ''\n",
        "  for i in range(5):\n",
        "    if i<Bucket_5:\n",
        "      waterDisp+='W'\n",
        "    else:\n",
        "      waterDisp+=' '\n",
        "  for i in range(3):\n",
        "    if i<Bucket_3:\n",
        "      waterDisp+='W'\n",
        "    else:\n",
        "      waterDisp+=' '\n",
        "  print('''\n",
        "  5|{4}|\n",
        "  4|{3}|\n",
        "  3|{2}|   3|{7}|\n",
        "  2|{1}|   2|{6}|\n",
        "  1|{0}|   1|{5}|\n",
        "  +-----+ +------+\n",
        "    5L      3L'''.format(*waterDisp))\n",
        "disp(Bucket_3,Bucket_5)"
      ],
      "metadata": {
        "colab": {
          "base_uri": "https://localhost:8080/"
        },
        "id": "RfLApFyisXhx",
        "outputId": "a79cad2b-bb44-4e9e-e069-d76136d8df06"
      },
      "id": "RfLApFyisXhx",
      "execution_count": null,
      "outputs": [
        {
          "output_type": "stream",
          "name": "stdout",
          "text": [
            "\n",
            "  5|W|\n",
            "  4|W|\n",
            "  3|W|   3|W|\n",
            "  2|W|   2|W|\n",
            "  1|W|   1|W|\n",
            "  +-----+ +------+\n",
            "    5L      3L\n"
          ]
        }
      ]
    },
    {
      "cell_type": "code",
      "source": [
        "# your code"
      ],
      "metadata": {
        "id": "wOWYmb31srWk"
      },
      "id": "wOWYmb31srWk",
      "execution_count": null,
      "outputs": []
    }
  ],
  "metadata": {
    "kernelspec": {
      "display_name": "Python 3 (ipykernel)",
      "language": "python",
      "name": "python3"
    },
    "language_info": {
      "codemirror_mode": {
        "name": "ipython",
        "version": 3
      },
      "file_extension": ".py",
      "mimetype": "text/x-python",
      "name": "python",
      "nbconvert_exporter": "python",
      "pygments_lexer": "ipython3",
      "version": "3.8.4"
    },
    "colab": {
      "provenance": [],
      "include_colab_link": true
    }
  },
  "nbformat": 4,
  "nbformat_minor": 5
}