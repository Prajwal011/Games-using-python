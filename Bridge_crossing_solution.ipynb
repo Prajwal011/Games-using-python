{
  "nbformat": 4,
  "nbformat_minor": 0,
  "metadata": {
    "colab": {
      "provenance": [],
      "authorship_tag": "ABX9TyNP0IXNePJhragGCbiTCxTx",
      "include_colab_link": true
    },
    "kernelspec": {
      "name": "python3",
      "display_name": "Python 3"
    },
    "language_info": {
      "name": "python"
    }
  },
  "cells": [
    {
      "cell_type": "markdown",
      "metadata": {
        "id": "view-in-github",
        "colab_type": "text"
      },
      "source": [
        "<a href=\"https://colab.research.google.com/github/Prajwal011/Games-using-python/blob/main/Bridge_crossing_solution.ipynb\" target=\"_parent\"><img src=\"https://colab.research.google.com/assets/colab-badge.svg\" alt=\"Open In Colab\"/></a>"
      ]
    },
    {
      "cell_type": "markdown",
      "source": [
        "\n",
        "# Bridge Crossing Puzzle Game  \n",
        "\n",
        "#### In this project, you will create a Bridge Crossing puzzle game using Python\n",
        "\\\n",
        "\n",
        "[Play Game!](https://www.novelgames.com/en/bridge/)\n",
        "\n",
        "## Notebook Content :\n",
        "\n",
        "- **Lesson 1 :**\n",
        "  - Setting up the initial environment of the game.\n",
        "\n",
        "\n",
        "- **Lesson 2 :**\n",
        "  - Adding the required valid and invalid conditions alongwith their operations.\n",
        "\n",
        "- **Lesson 3 :**\n",
        "  - Combining all segments of the code to build the game.\n",
        "\n",
        "- **Lesson 4 :**\n",
        "  - Adding funcion to complete the game with better interface.\n",
        "\n",
        "\n"
      ],
      "metadata": {
        "id": "gUG0VzjwD-YD"
      }
    },
    {
      "cell_type": "markdown",
      "source": [
        "### Rules and goal:\n",
        "* Take all 5 people to the other side of bridge before lamp light runs out\n",
        "* lamp light runs for 30 minutes and lamp needs to be held by a person\n",
        "  \n",
        "* each person takes different time to cross bridge and can travel back and forth with lamp and bridge can only hold maximum 2 people at a time\n"
      ],
      "metadata": {
        "id": "Bh5sab0mE2Jk"
      }
    },
    {
      "cell_type": "markdown",
      "source": [
        "## <center>**Lesson 1**</center>\n",
        "\n",
        "#### <center>**Setting up the initial environment of the game**</center>"
      ],
      "metadata": {
        "id": "wXvrAaZxF6cm"
      }
    },
    {
      "cell_type": "markdown",
      "source": [
        "Define variable for each person with corresponding time as value\n",
        "variable `a,b,c,d,e` with values `1,3,6,8,12` \\\n",
        "\n",
        "and display them\n",
        "` a = 1 ,\n",
        " b = 3 ,\n",
        " c = 6  ,\n",
        " d = 8 ,\n",
        " e = 12 `"
      ],
      "metadata": {
        "id": "3ah5OwpXF4_0"
      }
    },
    {
      "cell_type": "code",
      "source": [
        "a=1\n",
        "b=3\n",
        "c=6\n",
        "d=8\n",
        "e=12\n",
        "print(f\" a = {a} b = {b} c = {c} d = {d} e = {e} \")"
      ],
      "metadata": {
        "colab": {
          "base_uri": "https://localhost:8080/"
        },
        "id": "6k9nDKN1D_L7",
        "outputId": "0f108e98-cd0c-4704-95e1-22722b0a1c83"
      },
      "execution_count": null,
      "outputs": [
        {
          "output_type": "stream",
          "name": "stdout",
          "text": [
            " a = 1 b = 3 c = 6 d = 8 e = 12 \n"
          ]
        }
      ]
    },
    {
      "cell_type": "markdown",
      "source": [
        "Define more variables for total number of `minutes` as 0, the side on which `lamp` is which is 'left' , total people on `right` side as 'abcde' and total people intialy on `left` side as \" \"(empty string)  \n",
        "and print the left and right variables\n",
        "\n",
        "- **List of Variables :**\n",
        "`minutes, lamp, right, left`"
      ],
      "metadata": {
        "id": "Qdj27NK6HtWJ"
      }
    },
    {
      "cell_type": "code",
      "source": [
        "minutes=0\n",
        "lamp='r'\n",
        "right='abcde'\n",
        "left=''\n",
        "print(f'{left} ================ {right}\\n')"
      ],
      "metadata": {
        "colab": {
          "base_uri": "https://localhost:8080/"
        },
        "id": "N4h-byfbD_Ds",
        "outputId": "554b4737-ab8a-42c1-8dbb-df60804abd18"
      },
      "execution_count": null,
      "outputs": [
        {
          "output_type": "stream",
          "name": "stdout",
          "text": [
            " ================ abcde\n",
            "\n"
          ]
        }
      ]
    },
    {
      "cell_type": "markdown",
      "source": [
        "## <center>**Lesson 2**</center>\n",
        "#### <center>**Adding the required valid and invalid conditions alongwith their operations**</center>\n"
      ],
      "metadata": {
        "id": "5mSyiwV_9Ril"
      }
    },
    {
      "cell_type": "markdown",
      "source": [
        "#**<center>  Code flow for right side</center>**"
      ],
      "metadata": {
        "id": "KQ5Nt2M24C4c"
      }
    },
    {
      "cell_type": "markdown",
      "source": [
        "Check if the lamp is on right side and take input for whom to take from `right_to_left` for whom to take from right to left using bridge\n",
        "\n",
        "**Note :** Make sure you pass the appropriate message in the input function that assists user in entering the values.\n",
        "\n",
        "**Note :** user will enter the string of whom they want to take from right to left ex- 'ac'\n",
        "\n"
      ],
      "metadata": {
        "id": "SylO_mgo4K8M"
      }
    },
    {
      "cell_type": "code",
      "source": [
        "if lamp=='r':\n",
        "    right_to_left=input('Enter person from right to left\\n')"
      ],
      "metadata": {
        "id": "K-HOlrCx4FB6",
        "colab": {
          "base_uri": "https://localhost:8080/"
        },
        "outputId": "e5066058-f45e-44cd-f79b-43b6a4791104"
      },
      "execution_count": null,
      "outputs": [
        {
          "name": "stdout",
          "output_type": "stream",
          "text": [
            "Enter person from right to left\n",
            "ab\n"
          ]
        }
      ]
    },
    {
      "cell_type": "markdown",
      "source": [
        "Check the number of people on bridge if it exceeds 2 or is less than 1 display 'too many humans on bridge!!' or 'no human to hold lamp'\n",
        "\n",
        "\n",
        "**Note :** The following code cells will be common for both right side and left side"
      ],
      "metadata": {
        "id": "MKmTjD4F5e3-"
      }
    },
    {
      "cell_type": "code",
      "source": [
        "if len(right_to_left)>2:\n",
        "  print(\"Too much humans bridge can't handle!!\")\n",
        "  # continue\n",
        "elif len(right_to_left)<1:\n",
        "  print('no human entered to walk with lamp!!')\n",
        "  # continue\n"
      ],
      "metadata": {
        "id": "H0rksd_n4FFg"
      },
      "execution_count": null,
      "outputs": []
    },
    {
      "cell_type": "markdown",
      "source": [
        "Check if the people(values) entered by user in `right_to_left` variable\n",
        " * are not repeated variable if repeated display 'duplicate string entered'\n",
        " * are available in `right` if not display 'choose from one of the available people on right side' and display possible choices to choose from"
      ],
      "metadata": {
        "id": "_ay03eOY5xB_"
      }
    },
    {
      "cell_type": "markdown",
      "source": [
        "**without predifined functions**"
      ],
      "metadata": {
        "id": "9bw-vJwiNpHx"
      }
    },
    {
      "cell_type": "code",
      "source": [
        "x=' '\n",
        "for i in right_to_left:\n",
        "  for j in x:\n",
        "    if i!=j:\n",
        "      x+=i\n",
        "    else:\n",
        "      print('Duplicate String entered')\n",
        "      break\n",
        "  c=0\n",
        "  for j in right:\n",
        "    if i!=j:\n",
        "      c+=1\n",
        "  if c==len(right):\n",
        "    print(\"people not available\")"
      ],
      "metadata": {
        "id": "POLSCpZk4FJO",
        "colab": {
          "base_uri": "https://localhost:8080/"
        },
        "outputId": "9ae1d24a-5c03-49bf-8418-7aff66e46979"
      },
      "execution_count": null,
      "outputs": [
        {
          "output_type": "stream",
          "name": "stdout",
          "text": [
            "Duplicate String entered\n"
          ]
        }
      ]
    },
    {
      "cell_type": "markdown",
      "source": [
        "**with predifined functions**"
      ],
      "metadata": {
        "id": "ZFG5pG9qNvrY"
      }
    },
    {
      "cell_type": "code",
      "source": [
        "for i in right_to_left:\n",
        "  if i not in right:\n",
        "    print(\"Choose from one of this choices\",right)\n",
        "  elif right_to_left.count(i)>1:\n",
        "    print(\"Duplicate string entered\")\n",
        "    break"
      ],
      "metadata": {
        "colab": {
          "base_uri": "https://localhost:8080/"
        },
        "id": "anIpFSyBNkz9",
        "outputId": "5d9d3e3f-6641-4000-d12f-da8b28206412"
      },
      "execution_count": null,
      "outputs": [
        {
          "output_type": "stream",
          "name": "stdout",
          "text": [
            "Duplicate string entered\n"
          ]
        }
      ]
    },
    {
      "cell_type": "markdown",
      "source": [
        "Add all the people from `right_to_left` variable on `left` side and remove from `right` side"
      ],
      "metadata": {
        "id": "Fd7DCLiz5_4L"
      }
    },
    {
      "cell_type": "markdown",
      "source": [
        "**without predifined functions**"
      ],
      "metadata": {
        "id": "Aaw_yM6POafA"
      }
    },
    {
      "cell_type": "code",
      "source": [
        "new_str=''\n",
        "for i in right:\n",
        "  c=0\n",
        "  for j in right_to_left:\n",
        "    if i!=j:\n",
        "      c+=1\n",
        "  if c==len(right_to_left):\n",
        "      new_str+=i\n",
        "right=new_str\n",
        "left+=right_to_left"
      ],
      "metadata": {
        "colab": {
          "base_uri": "https://localhost:8080/"
        },
        "id": "ojPlAFY2N_KI",
        "outputId": "90423936-491d-435e-861e-3dcb7c21b1de"
      },
      "execution_count": null,
      "outputs": [
        {
          "output_type": "execute_result",
          "data": {
            "text/plain": [
              "('cde', 'ab')"
            ]
          },
          "metadata": {},
          "execution_count": 57
        }
      ]
    },
    {
      "cell_type": "markdown",
      "source": [
        "**with predifined functions**"
      ],
      "metadata": {
        "id": "vejHLj5IQIfD"
      }
    },
    {
      "cell_type": "code",
      "source": [
        "for i in right_to_left:\n",
        "  right=right.replace(i,'')\n",
        "left+=right_to_left"
      ],
      "metadata": {
        "id": "fRVlecaM4FMt"
      },
      "execution_count": null,
      "outputs": []
    },
    {
      "cell_type": "markdown",
      "source": [
        "Check for the person with maximum time from the ones entered on `right_to_left` variable and add its time in `minutes` variable"
      ],
      "metadata": {
        "id": "AgBEz07y6HKn"
      }
    },
    {
      "cell_type": "markdown",
      "source": [
        "**without predifined functions**"
      ],
      "metadata": {
        "id": "YtVcYmtWQL_y"
      }
    },
    {
      "cell_type": "code",
      "source": [
        "max=''\n",
        "for i in right_to_left:\n",
        "  if i >max:\n",
        "    max=i\n",
        "max\n",
        "if max =='a':           minutes+=a\n",
        "elif max=='b':          minutes+=b\n",
        "elif max=='c':          minutes+=c\n",
        "elif max=='d':          minutes+=d\n",
        "elif max=='e':          minutes+=e"
      ],
      "metadata": {
        "colab": {
          "base_uri": "https://localhost:8080/",
          "height": 36
        },
        "id": "4nGid0gLQOj6",
        "outputId": "1c5d07ee-b4f2-4b18-b992-07df6ab024b5"
      },
      "execution_count": null,
      "outputs": [
        {
          "output_type": "execute_result",
          "data": {
            "text/plain": [
              "'d'"
            ],
            "application/vnd.google.colaboratory.intrinsic+json": {
              "type": "string"
            }
          },
          "metadata": {},
          "execution_count": 62
        }
      ]
    },
    {
      "cell_type": "markdown",
      "source": [
        "**with predifined functions**"
      ],
      "metadata": {
        "id": "cHmAEK1RQNF7"
      }
    },
    {
      "cell_type": "markdown",
      "source": [
        "eval function evaluates the string as expression\n",
        "\n",
        "```\n",
        "a=2\n",
        "b=4\n",
        "eval(a+b)\n",
        ">>> 6\n",
        "```"
      ],
      "metadata": {
        "id": "M91kX9AgQ9I3"
      }
    },
    {
      "cell_type": "code",
      "source": [
        "i=max(right_to_left)\n",
        "minutes=minutes+eval('a')"
      ],
      "metadata": {
        "id": "ZEHn1WJt4FP_",
        "colab": {
          "base_uri": "https://localhost:8080/"
        },
        "outputId": "377f1a80-c342-4ac6-e367-d1f71bed103f"
      },
      "execution_count": null,
      "outputs": [
        {
          "output_type": "execute_result",
          "data": {
            "text/plain": [
              "1"
            ]
          },
          "metadata": {},
          "execution_count": 64
        }
      ]
    },
    {
      "cell_type": "markdown",
      "source": [
        "Display the total people on `left` and `right` along with total minutes till now and change the value in `lamp` to 'left'  \n",
        "sample output - `'ab ================ cde  Steps = 3'`\n"
      ],
      "metadata": {
        "id": "FWTFThnK6Zl4"
      }
    },
    {
      "cell_type": "code",
      "source": [
        "print(f'{left} ================ {right} Steps  = {minutes}\\n')\n",
        "lamp='l'"
      ],
      "metadata": {
        "id": "_rbReXVM4FS5"
      },
      "execution_count": null,
      "outputs": []
    },
    {
      "cell_type": "markdown",
      "source": [
        "#**<center>  Code flow for left side</center>**"
      ],
      "metadata": {
        "id": "9Oy0pbGz2Fec"
      }
    },
    {
      "cell_type": "markdown",
      "source": [
        "Check if the lamp is on right side and take input in variable `left_to_right` for whom to take from left to right using bridge\n",
        "\n",
        "**Note :** Make sure you pass the appropriate message in the input function that assists user in entering the values.\n",
        "\n",
        "**Note :** user will enter the string of whom they want to take from left to right ex- 'ac'\n",
        "\n"
      ],
      "metadata": {
        "id": "uUkspcHDuqqW"
      }
    },
    {
      "cell_type": "code",
      "source": [
        "if lamp=='l':\n",
        "  left_to_right =input('Enter the person you want to take from left to right\\n')"
      ],
      "metadata": {
        "colab": {
          "base_uri": "https://localhost:8080/"
        },
        "id": "oodHagD7D-6t",
        "outputId": "b0760c9f-a624-4595-937f-2741017ce549"
      },
      "execution_count": null,
      "outputs": [
        {
          "name": "stdout",
          "output_type": "stream",
          "text": [
            "Enter the person you want to take from left to right\n",
            "ac\n"
          ]
        }
      ]
    },
    {
      "cell_type": "markdown",
      "source": [
        "Check the number of people on bridge if it exceeds 2 or is less than 1 display 'too many humans on bridge!!' or 'no human to hold lamp'\n",
        "\n",
        "\n",
        "**Note :** The following code cells will be common for both right side and left side"
      ],
      "metadata": {
        "id": "ILkfJcQ0wavl"
      }
    },
    {
      "cell_type": "code",
      "source": [
        "\n",
        "if len(left_to_right)>2:\n",
        "  print(\"Too much humans!!\")\n",
        "  # continue\n",
        "elif len(left_to_right)<1:\n",
        "  print('no human entered to walk with lamp!!')\n",
        "  # continue"
      ],
      "metadata": {
        "id": "TU17coc-D-NZ"
      },
      "execution_count": null,
      "outputs": []
    },
    {
      "cell_type": "markdown",
      "source": [
        "Check if the people(values) entered by user in `left_to_right` variable\n",
        " * are not repeated variable if repeated display 'duplicate string entered'\n",
        " * are available in `left` if not display 'choose from one of the available people on left side' and display possible choices to choose from"
      ],
      "metadata": {
        "id": "Eau5NSrZxxzo"
      }
    },
    {
      "cell_type": "code",
      "source": [
        "\n",
        "for i in left_to_right:\n",
        "  if i not in left:\n",
        "    print(\"Choose from one of this choices\",left)\n",
        "  elif left_to_right.count(i)>1:\n",
        "    print(\"Duplicate string entered\")\n",
        ""
      ],
      "metadata": {
        "id": "6JVXSjbHxxLk"
      },
      "execution_count": null,
      "outputs": []
    },
    {
      "cell_type": "markdown",
      "source": [
        "Add all the people from `left_to_right` variable on `right` side and remove from `left` side"
      ],
      "metadata": {
        "id": "z__qhC2qzY-j"
      }
    },
    {
      "cell_type": "code",
      "source": [
        "\n",
        "for i in left_to_right:\n",
        "    right+=i\n",
        "    left=left.replace(i,'')"
      ],
      "metadata": {
        "id": "yQ9_YsQBzYaH"
      },
      "execution_count": null,
      "outputs": []
    },
    {
      "cell_type": "markdown",
      "source": [
        "Check for the person with maximum time from the ones entered on `left_to_right` variable and add its time in `minutes` variable"
      ],
      "metadata": {
        "id": "zZVtfIJFz9Ds"
      }
    },
    {
      "cell_type": "code",
      "source": [
        "\n",
        "i=max(left_to_right)\n",
        "if i =='a':\n",
        "    minutes+=a\n",
        "elif i=='b':\n",
        "          minutes+=b\n",
        "elif i=='c':\n",
        "          minutes+=c\n",
        "elif i=='d':\n",
        "          minutes+=d\n",
        "elif i=='e':\n",
        "          minutes+=e"
      ],
      "metadata": {
        "id": "DBlt0kXBz9K-"
      },
      "execution_count": null,
      "outputs": []
    },
    {
      "cell_type": "markdown",
      "source": [
        "Display the total people on `left` and `right` along with total minutes till now and change the value in `lamp` with 'right'  \n",
        "sample output - `'cde ================ ab Steps = 3'`\n"
      ],
      "metadata": {
        "id": "pHiyLoGID-FL"
      }
    },
    {
      "cell_type": "code",
      "source": [
        "\n",
        "print(f'{left} ================ {right} Steps = {minutes}\\n')\n",
        "torch='r'"
      ],
      "metadata": {
        "colab": {
          "base_uri": "https://localhost:8080/"
        },
        "id": "xAHmu6Li0mHU",
        "outputId": "55a6704a-ead9-41ab-d2fe-250fc4c9831a"
      },
      "execution_count": null,
      "outputs": [
        {
          "output_type": "stream",
          "name": "stdout",
          "text": [
            "decba ================  Steps = 6\n",
            "\n"
          ]
        }
      ]
    },
    {
      "cell_type": "markdown",
      "source": [
        "#**<center> Condition for losing and winning</center>**"
      ],
      "metadata": {
        "id": "gSYc6Ty60mPf"
      }
    },
    {
      "cell_type": "markdown",
      "source": [
        "Add winning condition:\n",
        "* if all the people are on the left side of bridge display 'You Won Congrats!!!'\n"
      ],
      "metadata": {
        "id": "uhidB0fa7Nxj"
      }
    },
    {
      "cell_type": "code",
      "source": [
        "\n",
        "if len(left)==5:\n",
        "    print(\"You won!!!!!!!!\")"
      ],
      "metadata": {
        "id": "UT8i0kjs1tay"
      },
      "execution_count": null,
      "outputs": []
    },
    {
      "cell_type": "markdown",
      "source": [
        "Add Losing Condition:\n",
        "* If minutes is above 30  display 'You lose!!'"
      ],
      "metadata": {
        "id": "2uIYbZdx1teb"
      }
    },
    {
      "cell_type": "code",
      "source": [
        "\n",
        "if minutes>30:\n",
        "  print(\"You Lose!!!\")"
      ],
      "metadata": {
        "id": "kBA3i1YJ1pUB"
      },
      "execution_count": null,
      "outputs": []
    },
    {
      "cell_type": "markdown",
      "source": [
        "## <center>**Lesson 3**</center>\n",
        "#### <center>**Combining all segments of the code to build the game**</center>"
      ],
      "metadata": {
        "id": "euWU_ARz9pnb"
      }
    },
    {
      "cell_type": "markdown",
      "source": [
        "# Structure of combined code:\n",
        "\n",
        "\n",
        "```\n",
        "variable declaration and initial print statement\n",
        "```\n",
        "Create an infinite loop:\n",
        "\n",
        "```\n",
        "if boat is on right side :\n",
        "```\n",
        "### <center> **Code flow for right side** </center>\n",
        "```\n",
        " Taking input checking for valid and invalid inputs  \n",
        " Moving people from right to left\n",
        "```\n",
        "\n",
        "### <center> **Code flow for left side** </center>\n",
        "```\n",
        " Taking input checking for valid and invalid inputs  \n",
        " Moving people from left to right\n",
        "```\n",
        "```\n",
        "add winning condition and losing condition\n",
        "```\n"
      ],
      "metadata": {
        "id": "Qgn8GI50DEBp"
      }
    },
    {
      "cell_type": "code",
      "source": [
        "a=1\n",
        "b=3\n",
        "c=6\n",
        "d=8\n",
        "e=12\n",
        "print(f\" a = {a} b = {b} c = {c} d = {d} e = {e} \")\n",
        "minutes=0\n",
        "lamp='r'\n",
        "right='abcde'\n",
        "left=''\n",
        "print(f'{left} ================ {right}\\n')\n",
        "while True:\n",
        "  if lamp=='r':\n",
        "      right_to_left=input('Enter person from right to left\\n')\n",
        "      if len(right_to_left)>2:\n",
        "        print(\"Too much humans bridge can't handle!!\")\n",
        "        continue\n",
        "      elif len(right_to_left)<1:\n",
        "        print('no human entered to walk with lamp!!')\n",
        "        continue\n",
        "      flag=0\n",
        "      for i in right_to_left:\n",
        "        if i not in right:\n",
        "          print(\"Choose from one of this choices on right\",right)\n",
        "          flag=1\n",
        "          break\n",
        "        elif right_to_left.count(i)>1:\n",
        "          print(\"Duplicate string entered\")\n",
        "          flag=1\n",
        "          break\n",
        "      if flag==1:\n",
        "        continue\n",
        "      for i in right_to_left:\n",
        "        right=right.replace(i,'')\n",
        "      left+=right_to_left\n",
        "      i=max(right_to_left)\n",
        "      if i =='a':           minutes+=a\n",
        "      elif i=='b':          minutes+=b\n",
        "      elif i=='c':          minutes+=c\n",
        "      elif i=='d':          minutes+=d\n",
        "      elif i=='e':          minutes+=e\n",
        "      print(f'{left} ================ {right} Steps  = {minutes}\\n')\n",
        "      lamp='l'\n",
        "  elif lamp=='l':\n",
        "    left_to_right =input('Enter the person you want to take from left to right\\n')\n",
        "    if len(left_to_right)>2:\n",
        "      print(\"Too much humans!!\")\n",
        "      continue\n",
        "    elif len(left_to_right)<1:\n",
        "      print('no human entered to walk with lamp!!')\n",
        "      continue\n",
        "    flag=0\n",
        "    for i in left_to_right:\n",
        "      if i not in left:\n",
        "        print(\"Choose from one of this choices\",left)\n",
        "        flag=1\n",
        "        break\n",
        "      elif left_to_right.count(i)>1:\n",
        "        print(\"Duplicate string entered\")\n",
        "        flag=1\n",
        "        break\n",
        "    if flag==1:\n",
        "    # else:\n",
        "      continue\n",
        "    for i in left_to_right:\n",
        "        right+=i\n",
        "        left=left.replace(i,'')\n",
        "    i=max(left_to_right)\n",
        "    if i =='a':\n",
        "        minutes+=a\n",
        "    elif i=='b':\n",
        "              minutes+=b\n",
        "    elif i=='c':\n",
        "              minutes+=c\n",
        "    elif i=='d':\n",
        "              minutes+=d\n",
        "    elif i=='e':\n",
        "              minutes+=e\n",
        "    print(f'{left} ================ {right} rSteps = {minutes}\\n')\n",
        "    lamp='r'\n",
        "    if len(left)==5:\n",
        "        print(\"You won!!!!!!!!\")\n",
        "        break\n",
        "    if minutes>30:\n",
        "      print(\"You Lose!!!\")\n",
        "      break\n",
        "print(\"Thanks for playing\")"
      ],
      "metadata": {
        "colab": {
          "base_uri": "https://localhost:8080/",
          "height": 908
        },
        "id": "wLZanFaX1peY",
        "outputId": "4f4d8c38-6fe9-4da8-9d00-a935b1a7924c"
      },
      "execution_count": null,
      "outputs": [
        {
          "output_type": "stream",
          "name": "stdout",
          "text": [
            " ================ abcde\n",
            "\n",
            "Enter person from right to left\n",
            "bd\n",
            "bd ================ ace Steps  = 8\n",
            "\n",
            "Enter the person you want to take from left to right\n",
            "a\n",
            "Choose from one of this choices bd\n",
            "Enter the person you want to take from left to right\n",
            "b\n",
            "d ================ aceb rSteps = 11\n",
            "\n",
            "Enter person from right to left\n",
            "de\n",
            "Choose from one of this choices on right aceb\n",
            "Enter person from right to left\n",
            "de\n",
            "Choose from one of this choices on right aceb\n",
            "Enter person from right to left\n",
            "ce\n",
            "dce ================ ab Steps  = 23\n",
            "\n",
            "Enter the person you want to take from left to right\n",
            "e\n",
            "dc ================ abe rSteps = 35\n",
            "\n",
            "You Lose!!!\n"
          ]
        },
        {
          "output_type": "error",
          "ename": "KeyboardInterrupt",
          "evalue": "ignored",
          "traceback": [
            "\u001b[0;31m---------------------------------------------------------------------------\u001b[0m",
            "\u001b[0;31mKeyboardInterrupt\u001b[0m                         Traceback (most recent call last)",
            "\u001b[0;32m<ipython-input-36-1f947b9a3764>\u001b[0m in \u001b[0;36m<module>\u001b[0;34m\u001b[0m\n\u001b[1;32m      6\u001b[0m \u001b[0;32mwhile\u001b[0m \u001b[0;32mTrue\u001b[0m\u001b[0;34m:\u001b[0m\u001b[0;34m\u001b[0m\u001b[0;34m\u001b[0m\u001b[0m\n\u001b[1;32m      7\u001b[0m   \u001b[0;32mif\u001b[0m \u001b[0mlamp\u001b[0m\u001b[0;34m==\u001b[0m\u001b[0;34m'r'\u001b[0m\u001b[0;34m:\u001b[0m\u001b[0;34m\u001b[0m\u001b[0;34m\u001b[0m\u001b[0m\n\u001b[0;32m----> 8\u001b[0;31m       \u001b[0mright_to_left\u001b[0m\u001b[0;34m=\u001b[0m\u001b[0minput\u001b[0m\u001b[0;34m(\u001b[0m\u001b[0;34m'Enter person from right to left\\n'\u001b[0m\u001b[0;34m)\u001b[0m\u001b[0;34m\u001b[0m\u001b[0;34m\u001b[0m\u001b[0m\n\u001b[0m\u001b[1;32m      9\u001b[0m       \u001b[0;32mif\u001b[0m \u001b[0mlen\u001b[0m\u001b[0;34m(\u001b[0m\u001b[0mright_to_left\u001b[0m\u001b[0;34m)\u001b[0m\u001b[0;34m>\u001b[0m\u001b[0;36m2\u001b[0m\u001b[0;34m:\u001b[0m\u001b[0;34m\u001b[0m\u001b[0;34m\u001b[0m\u001b[0m\n\u001b[1;32m     10\u001b[0m         \u001b[0mprint\u001b[0m\u001b[0;34m(\u001b[0m\u001b[0;34m\"Too much humans bridge can't handle!!\"\u001b[0m\u001b[0;34m)\u001b[0m\u001b[0;34m\u001b[0m\u001b[0;34m\u001b[0m\u001b[0m\n",
            "\u001b[0;32m/usr/local/lib/python3.8/dist-packages/ipykernel/kernelbase.py\u001b[0m in \u001b[0;36mraw_input\u001b[0;34m(self, prompt)\u001b[0m\n\u001b[1;32m    858\u001b[0m                 \u001b[0;34m\"raw_input was called, but this frontend does not support input requests.\"\u001b[0m\u001b[0;34m\u001b[0m\u001b[0;34m\u001b[0m\u001b[0m\n\u001b[1;32m    859\u001b[0m             )\n\u001b[0;32m--> 860\u001b[0;31m         return self._input_request(str(prompt),\n\u001b[0m\u001b[1;32m    861\u001b[0m             \u001b[0mself\u001b[0m\u001b[0;34m.\u001b[0m\u001b[0m_parent_ident\u001b[0m\u001b[0;34m,\u001b[0m\u001b[0;34m\u001b[0m\u001b[0;34m\u001b[0m\u001b[0m\n\u001b[1;32m    862\u001b[0m             \u001b[0mself\u001b[0m\u001b[0;34m.\u001b[0m\u001b[0m_parent_header\u001b[0m\u001b[0;34m,\u001b[0m\u001b[0;34m\u001b[0m\u001b[0;34m\u001b[0m\u001b[0m\n",
            "\u001b[0;32m/usr/local/lib/python3.8/dist-packages/ipykernel/kernelbase.py\u001b[0m in \u001b[0;36m_input_request\u001b[0;34m(self, prompt, ident, parent, password)\u001b[0m\n\u001b[1;32m    902\u001b[0m             \u001b[0;32mexcept\u001b[0m \u001b[0mKeyboardInterrupt\u001b[0m\u001b[0;34m:\u001b[0m\u001b[0;34m\u001b[0m\u001b[0;34m\u001b[0m\u001b[0m\n\u001b[1;32m    903\u001b[0m                 \u001b[0;31m# re-raise KeyboardInterrupt, to truncate traceback\u001b[0m\u001b[0;34m\u001b[0m\u001b[0;34m\u001b[0m\u001b[0;34m\u001b[0m\u001b[0m\n\u001b[0;32m--> 904\u001b[0;31m                 \u001b[0;32mraise\u001b[0m \u001b[0mKeyboardInterrupt\u001b[0m\u001b[0;34m(\u001b[0m\u001b[0;34m\"Interrupted by user\"\u001b[0m\u001b[0;34m)\u001b[0m \u001b[0;32mfrom\u001b[0m \u001b[0;32mNone\u001b[0m\u001b[0;34m\u001b[0m\u001b[0;34m\u001b[0m\u001b[0m\n\u001b[0m\u001b[1;32m    905\u001b[0m             \u001b[0;32mexcept\u001b[0m \u001b[0mException\u001b[0m \u001b[0;32mas\u001b[0m \u001b[0me\u001b[0m\u001b[0;34m:\u001b[0m\u001b[0;34m\u001b[0m\u001b[0;34m\u001b[0m\u001b[0m\n\u001b[1;32m    906\u001b[0m                 \u001b[0mself\u001b[0m\u001b[0;34m.\u001b[0m\u001b[0mlog\u001b[0m\u001b[0;34m.\u001b[0m\u001b[0mwarning\u001b[0m\u001b[0;34m(\u001b[0m\u001b[0;34m\"Invalid Message:\"\u001b[0m\u001b[0;34m,\u001b[0m \u001b[0mexc_info\u001b[0m\u001b[0;34m=\u001b[0m\u001b[0;32mTrue\u001b[0m\u001b[0;34m)\u001b[0m\u001b[0;34m\u001b[0m\u001b[0;34m\u001b[0m\u001b[0m\n",
            "\u001b[0;31mKeyboardInterrupt\u001b[0m: Interrupted by user"
          ]
        }
      ]
    },
    {
      "cell_type": "markdown",
      "source": [
        "## <center>**Lesson 4**</center>\n",
        "\n",
        "####<center>**Adding emoticons to complete the game with better interface**</center>"
      ],
      "metadata": {
        "id": "sC0Ro4cc9sYr"
      }
    },
    {
      "cell_type": "markdown",
      "source": [
        "`👶 a = 1 👦b = 3 👨c = 6 👩d = 8 👵e=12 ` change the values a,b,c,d,e with corresponding emoji while display"
      ],
      "metadata": {
        "id": "j3JMPIhp99l6"
      }
    },
    {
      "cell_type": "code",
      "source": [
        "print('''\n",
        " 👶 a : 1 min\n",
        " 👦 b : 3 min\n",
        " 👨 c : 6 min\n",
        " 👩 d : 8 min\n",
        "\n",
        " 👵 e : 12 min ''')\n",
        "a=1\n",
        "b=3\n",
        "c=6\n",
        "d=8\n",
        "e=12\n",
        "print(f\"👶 a = {a} 👦b = {b} 👨c = {c} 👩d = {d} 👵e={e} \")"
      ],
      "metadata": {
        "colab": {
          "base_uri": "https://localhost:8080/"
        },
        "id": "o9uJaUGBDjfV",
        "outputId": "416cb369-509b-4499-e9e6-01169db4cc5a"
      },
      "execution_count": null,
      "outputs": [
        {
          "output_type": "stream",
          "name": "stdout",
          "text": [
            "   \n",
            " 👶 a : 1 min\n",
            " 👦 b : 3 min\n",
            " 👨 c : 6 min \n",
            " 👩 d : 8 min\n",
            " 👵 e : 12 min \n",
            "👶 a = 1 👦b = 3 👨c = 6 👩d = 8 👵e=12 \n"
          ]
        }
      ]
    },
    {
      "cell_type": "markdown",
      "source": [
        "Add the disp function given below and call it every time you need to convert your string into emoticons\n",
        "\n",
        "**Note:** Don't worry if you don't get code for this function it just converts strings to emoticons for us so we only need to understand how to use it not how it works just try different string values in it and see how it works"
      ],
      "metadata": {
        "id": "7jQFYbtLHDGG"
      }
    },
    {
      "cell_type": "code",
      "source": [
        "# d={'a':'👶','b':'👦','c':'👨','d':'👩','e':'👵'}\n",
        "# d\n",
        "def disp(var):\n",
        "  d={'a':'👶','b':'👦','c':'👨','d':'👩','e':'👵'}\n",
        "  display=''\n",
        "  for i in var:\n",
        "    if i in d:\n",
        "      display+=d[i]\n",
        "    else:\n",
        "      return ('Enter valid string')\n",
        "  return display\n",
        "disp('ab')"
      ],
      "metadata": {
        "colab": {
          "base_uri": "https://localhost:8080/",
          "height": 36
        },
        "id": "ler2UuOaHQCo",
        "outputId": "a2e04e71-03ed-49b7-e281-106ed5b30d26"
      },
      "execution_count": null,
      "outputs": [
        {
          "output_type": "execute_result",
          "data": {
            "text/plain": [
              "'👶👦'"
            ],
            "application/vnd.google.colaboratory.intrinsic+json": {
              "type": "string"
            }
          },
          "metadata": {},
          "execution_count": 54
        }
      ]
    },
    {
      "cell_type": "code",
      "source": [
        "minutes=0\n",
        "lamp='r'\n",
        "right='abcde'\n",
        "left=''\n",
        "# print(f'{disp(left)} ================ {disp(right)}\\n')\n",
        "while True:\n",
        "  print(f\"👶 a = {a} 👦b = {b} 👨c = {c} 👩d = {d} 👵e={e} \")\n",
        "  # print(f'{disp(left)} ================ {disp(right)}\\n')\n",
        "  if lamp=='r':\n",
        "      right_to_left=input('Enter person from right to left\\n')\n",
        "      if len(right_to_left)>2:\n",
        "        print(\"Too much humans bridge can't handle!!\")\n",
        "        continue\n",
        "      elif len(right_to_left)<1:\n",
        "        print('no human entered to walk with lamp!!')\n",
        "        continue\n",
        "      flag=0\n",
        "      for i in right_to_left:\n",
        "        if i not in right:\n",
        "          print(\"Choose from one of this choices\",disp(right))\n",
        "          flag=1\n",
        "          break\n",
        "        elif right_to_left.count(i)>1:\n",
        "          print(\"Duplicate string entered\")\n",
        "          flag=1\n",
        "          break\n",
        "      if flag==1:\n",
        "        continue\n",
        "      for i in right_to_left:\n",
        "        right=right.replace(i,'')\n",
        "      left+=right_to_left\n",
        "      i=max(right_to_left)\n",
        "      if i =='a':           minutes+=a\n",
        "      elif i=='b':          minutes+=b\n",
        "      elif i=='c':          minutes+=c\n",
        "      elif i=='d':          minutes+=d\n",
        "      elif i=='e':          minutes+=e\n",
        "      print(f'{disp(left)} ================ {disp(right)} Steps  = {minutes}\\n')\n",
        "      lamp='l'\n",
        "  elif lamp=='l':\n",
        "\n",
        "    left_to_right =input('Enter the person you want to take from left to right\\n')\n",
        "    if len(left_to_right)>2:\n",
        "      print(\"Too much humans!!\")\n",
        "      continue\n",
        "    elif len(left_to_right)<1:\n",
        "      print('no human entered to walk with lamp!!')\n",
        "      continue\n",
        "    flag=0\n",
        "    for i in left_to_right:\n",
        "      if i not in left:\n",
        "        print(\"Choose from one of this choices\",disp(left))\n",
        "        flag=1\n",
        "        break\n",
        "      elif left_to_right.count(i)>1:\n",
        "        print(\"Duplicate string entered\")\n",
        "        flag=1\n",
        "        break\n",
        "    if flag==1:\n",
        "    # else:\n",
        "      continue\n",
        "    for i in left_to_right:\n",
        "        right+=i\n",
        "        left=left.replace(i,'')\n",
        "    i=max(left_to_right)\n",
        "    if i =='a':\n",
        "        minutes+=a\n",
        "    elif i=='b':\n",
        "              minutes+=b\n",
        "    elif i=='c':\n",
        "              minutes+=c\n",
        "    elif i=='d':\n",
        "              minutes+=d\n",
        "    elif i=='e':\n",
        "              minutes+=e\n",
        "    print(f'{disp(left)} ================ {disp(right)} Steps = {minutes}\\n')\n",
        "    lamp='r'\n",
        "    if len(left)==5:\n",
        "        print(\"You won!!!!!!!!\")\n",
        "        break\n",
        "    if minutes>=30:\n",
        "      print(\"You Lose!!!\")\n",
        "      break\n",
        "print(\"Thanks for playing\")"
      ],
      "metadata": {
        "colab": {
          "base_uri": "https://localhost:8080/"
        },
        "id": "485EAdur914O",
        "outputId": "2d2ca2b8-42db-4e90-9228-f70ab5497538"
      },
      "execution_count": null,
      "outputs": [
        {
          "output_type": "stream",
          "name": "stdout",
          "text": [
            "👶 a = 1 👦b = 3 👨c = 6 👩d = 8 👵e=12 \n",
            "Enter person from right to left\n",
            "ba\n",
            "👦👶 ================ 👨👩👵 Steps  = 3\n",
            "\n",
            "👶 a = 1 👦b = 3 👨c = 6 👩d = 8 👵e=12 \n",
            "Enter the person you want to take from left to right\n",
            "de\n",
            "Choose from one of this choices 👦👶\n",
            "👶 a = 1 👦b = 3 👨c = 6 👩d = 8 👵e=12 \n",
            "Enter the person you want to take from left to right\n",
            "ab\n",
            " ================ 👨👩👵👶👦 Steps = 6\n",
            "\n",
            "👶 a = 1 👦b = 3 👨c = 6 👩d = 8 👵e=12 \n",
            "Enter person from right to left\n",
            "de\n",
            "👩👵 ================ 👨👶👦 Steps  = 18\n",
            "\n",
            "👶 a = 1 👦b = 3 👨c = 6 👩d = 8 👵e=12 \n",
            "Enter the person you want to take from left to right\n",
            "de\n",
            " ================ 👨👶👦👩👵 Steps = 30\n",
            "\n",
            "👶 a = 1 👦b = 3 👨c = 6 👩d = 8 👵e=12 \n",
            "Enter person from right to left\n",
            "a\n",
            "👶 ================ 👨👦👩👵 Steps  = 31\n",
            "\n",
            "👶 a = 1 👦b = 3 👨c = 6 👩d = 8 👵e=12 \n",
            "Enter the person you want to take from left to right\n",
            "a\n",
            " ================ 👨👦👩👵👶 Steps = 32\n",
            "\n",
            "You Lose!!!\n",
            "Thanks for playing\n"
          ]
        }
      ]
    },
    {
      "cell_type": "code",
      "source": [],
      "metadata": {
        "id": "ihtly6yRFaP3"
      },
      "execution_count": null,
      "outputs": []
    }
  ]
}