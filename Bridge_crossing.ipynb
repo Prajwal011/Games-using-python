{
  "nbformat": 4,
  "nbformat_minor": 0,
  "metadata": {
    "colab": {
      "provenance": [],
      "authorship_tag": "ABX9TyM+cqqfrywBwDCr7DnJhUeL",
      "include_colab_link": true
    },
    "kernelspec": {
      "name": "python3",
      "display_name": "Python 3"
    },
    "language_info": {
      "name": "python"
    }
  },
  "cells": [
    {
      "cell_type": "markdown",
      "metadata": {
        "id": "view-in-github",
        "colab_type": "text"
      },
      "source": [
        "<a href=\"https://colab.research.google.com/github/Prajwal011/Games-using-python/blob/main/Bridge_crossing.ipynb\" target=\"_parent\"><img src=\"https://colab.research.google.com/assets/colab-badge.svg\" alt=\"Open In Colab\"/></a>"
      ]
    },
    {
      "cell_type": "markdown",
      "source": [
        "\n",
        "# Bridge Crossing Puzzle Game  \n",
        "\n",
        "#### In this project, you will create a Bridge Crossing puzzle game using Python\n",
        "\\\n",
        "\n",
        "[Play Game!](https://www.novelgames.com/en/bridge/)\n",
        "\n",
        "## Notebook Content :\n",
        "\n",
        "- **Lesson 1 :**\n",
        "  - Setting up the initial environment of the game.\n",
        "\n",
        "\n",
        "- **Lesson 2 :**\n",
        "  - Adding the required valid and invalid conditions alongwith their operations.\n",
        "\n",
        "- **Lesson 3 :**\n",
        "  - Combining all segments of the code to build the game.\n",
        "\n",
        "- **Lesson 4 :**\n",
        "  - Adding funcion to complete the game with better interface.\n",
        "\n",
        "\n"
      ],
      "metadata": {
        "id": "gUG0VzjwD-YD"
      }
    },
    {
      "cell_type": "markdown",
      "source": [
        "### Rules and goal:\n",
        "* Take all 5 people to the other side of bridge before lamp light runs out\n",
        "* lamp light runs for 30 minutes and lamp needs to be held by a person\n",
        "  \n",
        "* each person takes different time to cross bridge and can travel back and forth with lamp and bridge can only hold maximum 2 people at a time\n"
      ],
      "metadata": {
        "id": "Bh5sab0mE2Jk"
      }
    },
    {
      "cell_type": "markdown",
      "source": [
        "## <center>**Lesson 1**</center>\n",
        "\n",
        "#### <center>**Setting up the initial environment of the game**</center>"
      ],
      "metadata": {
        "id": "wXvrAaZxF6cm"
      }
    },
    {
      "cell_type": "markdown",
      "source": [
        "Define variable for each person with corresponding time as value\n",
        "variable `a,b,c,d,e` with values `1,3,6,8,12` \\\n",
        "\n",
        "and display them\n",
        "` a = 1 ,\n",
        " b = 3 ,\n",
        " c = 6  ,\n",
        " d = 8 ,\n",
        " e = 12 `"
      ],
      "metadata": {
        "id": "3ah5OwpXF4_0"
      }
    },
    {
      "cell_type": "code",
      "source": [
        "#your code"
      ],
      "metadata": {
        "id": "6k9nDKN1D_L7"
      },
      "execution_count": null,
      "outputs": []
    },
    {
      "cell_type": "markdown",
      "source": [
        "Define more variables for total number of `minutes` as 0, the side on which `lamp` is which is 'left' , total people on `right` side as 'abcde' and total people intialy on `left` side as \" \"(empty string)  \n",
        "and print the left and right variables\n",
        "\n",
        "- **List of Variables :**\n",
        "`minutes, lamp, right, left`"
      ],
      "metadata": {
        "id": "Qdj27NK6HtWJ"
      }
    },
    {
      "cell_type": "code",
      "source": [
        "#your code"
      ],
      "metadata": {
        "id": "N4h-byfbD_Ds"
      },
      "execution_count": null,
      "outputs": []
    },
    {
      "cell_type": "markdown",
      "source": [
        "## <center>**Lesson 2**</center>\n",
        "#### <center>**Adding the required valid and invalid conditions alongwith their operations**</center>\n"
      ],
      "metadata": {
        "id": "5mSyiwV_9Ril"
      }
    },
    {
      "cell_type": "markdown",
      "source": [
        "#**<center>  Code flow for right side</center>**"
      ],
      "metadata": {
        "id": "KQ5Nt2M24C4c"
      }
    },
    {
      "cell_type": "markdown",
      "source": [
        "Check if the lamp is on right side and take input for whom to take from `right_to_left` for whom to take from right to left using bridge\n",
        "\n",
        "**Note :** Make sure you pass the appropriate message in the input function that assists user in entering the values.\n",
        "\n",
        "**Note :** user will enter the string of whom they want to take from right to left ex- 'ac'\n",
        "\n"
      ],
      "metadata": {
        "id": "SylO_mgo4K8M"
      }
    },
    {
      "cell_type": "code",
      "source": [
        "#your code\n"
      ],
      "metadata": {
        "id": "K-HOlrCx4FB6"
      },
      "execution_count": null,
      "outputs": []
    },
    {
      "cell_type": "markdown",
      "source": [
        "Check the number of people on bridge if it exceeds 2 or is less than 1 display 'too many humans on bridge!!' or 'no human to hold lamp'\n",
        "\n",
        "\n",
        "**Note :** The following code cells will be common for both right side and left side"
      ],
      "metadata": {
        "id": "MKmTjD4F5e3-"
      }
    },
    {
      "cell_type": "code",
      "source": [
        "#your code\n"
      ],
      "metadata": {
        "id": "H0rksd_n4FFg"
      },
      "execution_count": null,
      "outputs": []
    },
    {
      "cell_type": "markdown",
      "source": [
        "Check if the people(values) entered by user in `right_to_left` variable\n",
        " * are not repeated variable if repeated display 'duplicate string entered'\n",
        " * are available in `right` if not display 'choose from one of the available people on right side' and display possible choices to choose from"
      ],
      "metadata": {
        "id": "_ay03eOY5xB_"
      }
    },
    {
      "cell_type": "code",
      "source": [
        "#your code\n"
      ],
      "metadata": {
        "id": "POLSCpZk4FJO"
      },
      "execution_count": null,
      "outputs": []
    },
    {
      "cell_type": "markdown",
      "source": [
        "Add all the people from `right_to_left` variable on `left` side and remove from `right` side"
      ],
      "metadata": {
        "id": "Fd7DCLiz5_4L"
      }
    },
    {
      "cell_type": "code",
      "source": [
        "#your code\n"
      ],
      "metadata": {
        "id": "fRVlecaM4FMt"
      },
      "execution_count": null,
      "outputs": []
    },
    {
      "cell_type": "markdown",
      "source": [
        "Check for the person with maximum time from the ones entered on `right_to_left` variable and add its time in `minutes` variable"
      ],
      "metadata": {
        "id": "AgBEz07y6HKn"
      }
    },
    {
      "cell_type": "code",
      "source": [
        "#your code\n"
      ],
      "metadata": {
        "id": "ZEHn1WJt4FP_"
      },
      "execution_count": null,
      "outputs": []
    },
    {
      "cell_type": "markdown",
      "source": [
        "Display the total people on `left` and `right` along with total minutes till now and change the value in `lamp` to 'left'  \n",
        "sample output - `'ab ================ cde  Steps = 3'`\n"
      ],
      "metadata": {
        "id": "FWTFThnK6Zl4"
      }
    },
    {
      "cell_type": "code",
      "source": [
        "#your code\n"
      ],
      "metadata": {
        "id": "_rbReXVM4FS5"
      },
      "execution_count": null,
      "outputs": []
    },
    {
      "cell_type": "markdown",
      "source": [
        "#**<center>  Code flow for left side</center>**"
      ],
      "metadata": {
        "id": "9Oy0pbGz2Fec"
      }
    },
    {
      "cell_type": "markdown",
      "source": [
        "Check if the lamp is on right side and take input in variable `left_to_right` for whom to take from left to right using bridge\n",
        "\n",
        "**Note :** Make sure you pass the appropriate message in the input function that assists user in entering the values.\n",
        "\n",
        "**Note :** user will enter the string of whom they want to take from left to right ex- 'ac'\n",
        "\n"
      ],
      "metadata": {
        "id": "uUkspcHDuqqW"
      }
    },
    {
      "cell_type": "code",
      "source": [
        "#your code\n"
      ],
      "metadata": {
        "id": "oodHagD7D-6t"
      },
      "execution_count": null,
      "outputs": []
    },
    {
      "cell_type": "markdown",
      "source": [
        "Check the number of people on bridge if it exceeds 2 or is less than 1 display 'too many humans on bridge!!' or 'no human to hold lamp'\n",
        "\n",
        "\n",
        "**Note :** The following code cells will be common for both right side and left side"
      ],
      "metadata": {
        "id": "ILkfJcQ0wavl"
      }
    },
    {
      "cell_type": "code",
      "source": [
        "#your code\n"
      ],
      "metadata": {
        "id": "TU17coc-D-NZ"
      },
      "execution_count": null,
      "outputs": []
    },
    {
      "cell_type": "markdown",
      "source": [
        "Check if the people(values) entered by user in `left_to_right` variable\n",
        " * are not repeated variable if repeated display 'duplicate string entered'\n",
        " * are available in `left` if not display 'choose from one of the available people on left side' and display possible choices to choose from"
      ],
      "metadata": {
        "id": "Eau5NSrZxxzo"
      }
    },
    {
      "cell_type": "code",
      "source": [
        "#your code\n"
      ],
      "metadata": {
        "id": "6JVXSjbHxxLk"
      },
      "execution_count": null,
      "outputs": []
    },
    {
      "cell_type": "markdown",
      "source": [
        "Add all the people from `left_to_right` variable on `right` side and remove from `left` side"
      ],
      "metadata": {
        "id": "z__qhC2qzY-j"
      }
    },
    {
      "cell_type": "code",
      "source": [
        "#your code\n"
      ],
      "metadata": {
        "id": "yQ9_YsQBzYaH"
      },
      "execution_count": null,
      "outputs": []
    },
    {
      "cell_type": "markdown",
      "source": [
        "Check for the person with maximum time from the ones entered on `left_to_right` variable and add its time in `minutes` variable"
      ],
      "metadata": {
        "id": "zZVtfIJFz9Ds"
      }
    },
    {
      "cell_type": "code",
      "source": [
        "#your code\n"
      ],
      "metadata": {
        "id": "DBlt0kXBz9K-"
      },
      "execution_count": null,
      "outputs": []
    },
    {
      "cell_type": "markdown",
      "source": [
        "Display the total people on `left` and `right` along with total minutes till now and change the value in `lamp` with 'right'  \n",
        "sample output - `'cde ================ ab Steps = 3'`\n"
      ],
      "metadata": {
        "id": "pHiyLoGID-FL"
      }
    },
    {
      "cell_type": "code",
      "source": [
        "#your code\n"
      ],
      "metadata": {
        "id": "xAHmu6Li0mHU"
      },
      "execution_count": null,
      "outputs": []
    },
    {
      "cell_type": "markdown",
      "source": [
        "#**<center> Condition for losing and winning</center>**"
      ],
      "metadata": {
        "id": "gSYc6Ty60mPf"
      }
    },
    {
      "cell_type": "markdown",
      "source": [
        "Add winning condition:\n",
        "* if all the people are on the left side of bridge display 'You Won Congrats!!!'\n"
      ],
      "metadata": {
        "id": "uhidB0fa7Nxj"
      }
    },
    {
      "cell_type": "code",
      "source": [
        "#your code\n"
      ],
      "metadata": {
        "id": "UT8i0kjs1tay"
      },
      "execution_count": null,
      "outputs": []
    },
    {
      "cell_type": "markdown",
      "source": [
        "Add Losing Condition:\n",
        "* If minutes is above 30  display 'You lose!!'"
      ],
      "metadata": {
        "id": "2uIYbZdx1teb"
      }
    },
    {
      "cell_type": "code",
      "source": [
        "#your code\n"
      ],
      "metadata": {
        "id": "kBA3i1YJ1pUB"
      },
      "execution_count": null,
      "outputs": []
    },
    {
      "cell_type": "markdown",
      "source": [
        "## <center>**Lesson 3**</center>\n",
        "#### <center>**Combining all segments of the code to build the game**</center>"
      ],
      "metadata": {
        "id": "euWU_ARz9pnb"
      }
    },
    {
      "cell_type": "markdown",
      "source": [
        "# Structure of combined code:\n",
        "\n",
        "\n",
        "```\n",
        "variable declaration and initial print statement\n",
        "```\n",
        "Create an infinite loop:\n",
        "\n",
        "```\n",
        "if boat is on right side :\n",
        "```\n",
        "### <center> **Code flow for right side** </center>\n",
        "```\n",
        " Taking input checking for valid and invalid inputs  \n",
        " Moving people from right to left\n",
        "```\n",
        "\n",
        "### <center> **Code flow for left side** </center>\n",
        "```\n",
        " Taking input checking for valid and invalid inputs  \n",
        " Moving people from left to right\n",
        "```\n",
        "```\n",
        "add winning condition and losing condition\n",
        "```\n"
      ],
      "metadata": {
        "id": "Qgn8GI50DEBp"
      }
    },
    {
      "cell_type": "code",
      "source": [
        "#your code\n"
      ],
      "metadata": {
        "id": "wLZanFaX1peY"
      },
      "execution_count": null,
      "outputs": []
    },
    {
      "cell_type": "markdown",
      "source": [
        "## <center>**Lesson 4**</center>\n",
        "\n",
        "####<center>**Adding emoticons to complete the game with better interface**</center>"
      ],
      "metadata": {
        "id": "sC0Ro4cc9sYr"
      }
    },
    {
      "cell_type": "markdown",
      "source": [
        "`👶 a = 1 👦b = 3 👨c = 6 👩d = 8 👵e=12 ` change the values a,b,c,d,e with corresponding emoji while display"
      ],
      "metadata": {
        "id": "j3JMPIhp99l6"
      }
    },
    {
      "cell_type": "code",
      "source": [
        "print('''\n",
        " 👶 a : 1 min\n",
        " 👦 b : 3 min\n",
        " 👨 c : 6 min\n",
        " 👩 d : 8 min\n",
        " 👵 e : 12 min ''')\n",
        "a=1\n",
        "b=3\n",
        "c=6\n",
        "d=8\n",
        "e=12\n",
        "print(f\"👶 a = {a} 👦b = {b} 👨c = {c} 👩d = {d} 👵e={e} \")"
      ],
      "metadata": {
        "colab": {
          "base_uri": "https://localhost:8080/"
        },
        "id": "o9uJaUGBDjfV",
        "outputId": "33898eca-9b2e-4119-e952-fbc6138bbc5b"
      },
      "execution_count": null,
      "outputs": [
        {
          "output_type": "stream",
          "name": "stdout",
          "text": [
            "   \n",
            " 👶 a : 1 min\n",
            " 👦 b : 3 min\n",
            " 👨 c : 6 min \n",
            " 👩 d : 8 min\n",
            " 👵 e : 12 min \n",
            "👶 a = 1 👦b = 3 👨c = 6 👩d = 8 👵e=12 \n"
          ]
        }
      ]
    },
    {
      "cell_type": "markdown",
      "source": [
        "Add the disp function given below and call it every time you need to convert your string into emoticons\n",
        "\n",
        "**Note:** Don't worry if you don't get code for this function it just converts strings to emoticons for us so we only need to understand how to use it not how it works just try different string values in it and see how it works"
      ],
      "metadata": {
        "id": "7jQFYbtLHDGG"
      }
    },
    {
      "cell_type": "code",
      "source": [
        "# d={'a':'👶','b':'👦','c':'👨','d':'👩','e':'👵'}\n",
        "# d\n",
        "def disp(var):\n",
        "  d={'a':'👶','b':'👦','c':'👨','d':'👩','e':'👵'}\n",
        "  display=''\n",
        "  for i in var:\n",
        "    if i in d:\n",
        "      display+=d[i]\n",
        "    else:\n",
        "      return ('Enter valid string')\n",
        "  return display\n",
        "disp('ab')"
      ],
      "metadata": {
        "colab": {
          "base_uri": "https://localhost:8080/",
          "height": 36
        },
        "id": "ler2UuOaHQCo",
        "outputId": "a2e04e71-03ed-49b7-e281-106ed5b30d26"
      },
      "execution_count": null,
      "outputs": [
        {
          "output_type": "execute_result",
          "data": {
            "text/plain": [
              "'👶👦'"
            ],
            "application/vnd.google.colaboratory.intrinsic+json": {
              "type": "string"
            }
          },
          "metadata": {},
          "execution_count": 54
        }
      ]
    },
    {
      "cell_type": "code",
      "source": [
        "#your code"
      ],
      "metadata": {
        "id": "485EAdur914O"
      },
      "execution_count": null,
      "outputs": []
    },
    {
      "cell_type": "code",
      "source": [],
      "metadata": {
        "id": "ihtly6yRFaP3"
      },
      "execution_count": null,
      "outputs": []
    }
  ]
}